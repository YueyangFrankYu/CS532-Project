{
 "cells": [
  {
   "cell_type": "code",
   "execution_count": null,
   "metadata": {
    "colab": {
     "base_uri": "https://localhost:8080/"
    },
    "id": "QJ4rjNSzefbY",
    "outputId": "b7f43031-a660-4795-f34d-681e816dd0e8"
   },
   "outputs": [
    {
     "name": "stdout",
     "output_type": "stream",
     "text": [
      "Requirement already satisfied: pyspark in /usr/local/lib/python3.10/dist-packages (3.5.0)\n",
      "Requirement already satisfied: py4j==0.10.9.7 in /usr/local/lib/python3.10/dist-packages (from pyspark) (0.10.9.7)\n",
      "2\n"
     ]
    }
   ],
   "source": [
    "!pip install pyspark\n",
    "\n",
    "import os\n",
    "\n",
    "num_cores = os.cpu_count()\n",
    "print(num_cores)"
   ]
  },
  {
   "cell_type": "code",
   "execution_count": null,
   "metadata": {
    "colab": {
     "base_uri": "https://localhost:8080/"
    },
    "id": "-xf66Op4PdoI",
    "outputId": "e10bf674-5044-4dcd-fa4d-0515c6572a06"
   },
   "outputs": [
    {
     "name": "stdout",
     "output_type": "stream",
     "text": [
      "Drive already mounted at /content/drive; to attempt to forcibly remount, call drive.mount(\"/content/drive\", force_remount=True).\n"
     ]
    },
    {
     "name": "stderr",
     "output_type": "stream",
     "text": [
      "[nltk_data] Downloading package stopwords to /root/nltk_data...\n",
      "[nltk_data]   Package stopwords is already up-to-date!\n",
      "[nltk_data] Downloading package punkt to /root/nltk_data...\n",
      "[nltk_data]   Package punkt is already up-to-date!\n",
      "[nltk_data] Downloading package wordnet to /root/nltk_data...\n",
      "[nltk_data]   Package wordnet is already up-to-date!\n"
     ]
    }
   ],
   "source": [
    "import nltk\n",
    "import pyspark.sql.functions as F\n",
    "import zipfile\n",
    "import re\n",
    "from pyspark.sql import SparkSession\n",
    "from pyspark.sql.functions import udf\n",
    "from pyspark.sql.types import StringType\n",
    "from pyspark.ml.feature import Tokenizer, StopWordsRemover\n",
    "from nltk.tokenize import word_tokenize\n",
    "from nltk.stem import WordNetLemmatizer\n",
    "from pyspark.sql.types import FloatType\n",
    "from nltk.sentiment.vader import SentimentIntensityAnalyzer\n",
    "from nltk.corpus import stopwords\n",
    "from google.colab import drive\n",
    "\n",
    "\n",
    "spark = SparkSession.builder.appName(\"DataPreprocessing\").getOrCreate()\n",
    "\n",
    "\n",
    "drive.mount('/content/drive')\n",
    "\n",
    "nltk.download('stopwords')\n",
    "nltk.download('punkt')\n",
    "nltk.download('wordnet')\n",
    "lemmatizer = WordNetLemmatizer()"
   ]
  },
  {
   "cell_type": "code",
   "execution_count": null,
   "metadata": {
    "colab": {
     "base_uri": "https://localhost:8080/"
    },
    "id": "CLM_Z3YVgzry",
    "outputId": "d8f70c1a-d913-4503-dab3-1f1c83ff65cc"
   },
   "outputs": [
    {
     "name": "stdout",
     "output_type": "stream",
     "text": [
      "File has been successfully unzipped to: /content/extractedFiles\n"
     ]
    }
   ],
   "source": [
    "zip_file_path = '/content/drive/MyDrive/Dataset.zip'\n",
    "extracted_folder_path = '/content/extractedFiles'\n",
    "\n",
    "with zipfile.ZipFile(zip_file_path, 'r') as zip_ref:\n",
    "    zip_ref.extractall(extracted_folder_path)\n",
    "\n",
    "print(\"File has been successfully unzipped to:\", extracted_folder_path)"
   ]
  },
  {
   "cell_type": "code",
   "execution_count": null,
   "metadata": {
    "colab": {
     "base_uri": "https://localhost:8080/"
    },
    "id": "aYpqWzWKuYbB",
    "outputId": "d5147ff7-a704-43b2-a314-054babdab317"
   },
   "outputs": [
    {
     "data": {
      "text/plain": [
       "2885735"
      ]
     },
     "execution_count": 21,
     "metadata": {},
     "output_type": "execute_result"
    }
   ],
   "source": [
    "dataset_path = '/content/extractedFiles'\n",
    "df = spark.read.option(\"header\", \"true\").csv(dataset_path)\n",
    "df.count()"
   ]
  },
  {
   "cell_type": "code",
   "execution_count": null,
   "metadata": {
    "colab": {
     "base_uri": "https://localhost:8080/"
    },
    "id": "TuniRZelvQgj",
    "outputId": "731b16b7-16f1-49b7-8d6b-5f273a6a9f03"
   },
   "outputs": [
    {
     "name": "stdout",
     "output_type": "stream",
     "text": [
      "+--------------------+\n",
      "|             content|\n",
      "+--------------------+\n",
      "|JOE BIDEN SAYS HO...|\n",
      "|                NULL|\n",
      "|I'm a truth seeke...|\n",
      "|@ProfPaulPoast He...|\n",
      "|@SemproniusT @Ric...|\n",
      "|@jakehase @Grouta...|\n",
      "|@2_4_5T_2_4_D @ca...|\n",
      "|@juliet_turner6 N...|\n",
      "|@BurnsideNotTosh ...|\n",
      "|America forced Pu...|\n",
      "|                NULL|\n",
      "|                   2|\n",
      "|@RussianEmbassy @...|\n",
      "|Abi Russia don in...|\n",
      "|Russia, China, Ir...|\n",
      "|@SamEBrewster @sa...|\n",
      "|@NeilLowenthal1 P...|\n",
      "|@polukhina_sonya ...|\n",
      "|\"@Resist47231614 ...|\n",
      "|Allows Russia to ...|\n",
      "+--------------------+\n",
      "only showing top 20 rows\n",
      "\n"
     ]
    }
   ],
   "source": [
    "(df.select(\"content\")).show()"
   ]
  },
  {
   "cell_type": "code",
   "execution_count": null,
   "metadata": {
    "colab": {
     "base_uri": "https://localhost:8080/"
    },
    "id": "HGWioptTzeK8",
    "outputId": "9f8a7153-1f31-4ec3-993f-b210f78723ce"
   },
   "outputs": [
    {
     "name": "stdout",
     "output_type": "stream",
     "text": [
      "+----------------------------------------------------------------------------------------------------------------------------------------------------------------------------------------------------------------------------------------------------------------------+--------------------------------------------------------------------------------------------------------------------------------------------------------------------------------------------------------------------+\n",
      "|content                                                                                                                                                                                                                                                               |tokens                                                                                                                                                                                                              |\n",
      "+----------------------------------------------------------------------------------------------------------------------------------------------------------------------------------------------------------------------------------------------------------------------+--------------------------------------------------------------------------------------------------------------------------------------------------------------------------------------------------------------------+\n",
      "|                                                                                                                                                                                                                                                                      |[]                                                                                                                                                                                                                  |\n",
      "|thanks for that ok next question is why did they really want to set a trap for russia to invade so they can increase weapons sales and balkanizepun intended the west against russia or something else what a dangerous game                                          |[thanks, ok, next, question, really, want, set, trap, russia, invade, increase, weapon, sale, balkanizepun, intended, west, russia, something, else, dangerous, game]                                               |\n",
      "|so are you saying ukraine was encroaching on russia or that europe was trying to take overcolonizeinvade russia sorry i think i may have misunderstanding what youre trying to say                                                                                    |[saying, ukraine, encroaching, russia, europe, trying, take, overcolonizeinvade, russia, sorry, think, may, misunderstanding, youre, trying, say]                                                                   |\n",
      "|seems to have come out very openly admitting to be the least trustworthy presidents of usa of all times either he shouldnt have been reassuring ukraine all this while or shld have worked harder with russia to not invade this war is on him                        |[seems, come, openly, admitting, least, trustworthy, president, usa, time, either, shouldnt, reassuring, ukraine, shld, worked, harder, russia, invade, war]                                                        |\n",
      "|mother of                                                                                                                                                                                                                                                             |[mother]                                                                                                                                                                                                            |\n",
      "|s so invade a country there are in the us too i dare him to invade the us his troops would be out gunned because our citizens are just plain crazy                                                                                                                    |[invade, country, u, dare, invade, u, troop, gunned, citizen, plain, crazy]                                                                                                                                         |\n",
      "|i did business in northern europe in the s amp once spent hours in finland my local colleagues were certain that russia would find an excuse to invade in my lifetime                                                                                                 |[business, northern, europe, amp, spent, hour, finland, local, colleague, certain, russia, find, excuse, invade, lifetime]                                                                                          |\n",
      "|the abused neglected author of nobodys child by beverly james noantiblackracism apttmh b                                                                                                                                                                              |[abused, neglected, author, nobody, child, beverly, james, noantiblackracism, apttmh, b]                                                                                                                            |\n",
      "|thats some kind of nuclear doctrine russia has we invade and bomb anything and anyone we want                                                                                                                                                                         |[thats, kind, nuclear, doctrine, russia, invade, bomb, anything, anyone, want]                                                                                                                                      |\n",
      "|well isnt this a surprise a cbc reporter has concluded that canada has been ignoring its responsibility for national defence who knew of course in order to arrive at this conclusion he needs to concoct a vision of trump colluding with russia to invade canada smh|[well, isnt, surprise, cbc, reporter, concluded, canada, ignoring, responsibility, national, defence, knew, course, order, arrive, conclusion, need, concoct, vision, trump, colluding, russia, invade, canada, smh]|\n",
      "|rawdescription i am the former npieceofcake                                                                                                                                                                                                                           |[rawdescription, former, npieceofcake]                                                                                                                                                                              |\n",
      "|the worlds gone crazy russia is making the mistake france and germany made when they tried to invade russia if it wasnt so sad it would be the funniest thing ever                                                                                                    |[world, gone, crazy, russia, making, mistake, france, germany, made, tried, invade, russia, wasnt, sad, funniest, thing, ever]                                                                                      |\n",
      "|after all the commentary asserting that putin would not invade ukraine proved false its a little hard to be reassured by claims that him putting russias nuclear forces on alert is just a bluff i pray it is but its not quite so easy to believe                    |[commentary, asserting, putin, invade, ukraine, proved, false, little, hard, reassured, claim, putting, russia, nuclear, force, alert, bluff, pray, quite, easy, believe]                                           |\n",
      "|id                                                                                                                                                                                                                                                                    |[id]                                                                                                                                                                                                                |\n",
      "|its not your cryptonnlets go brandon                                                                                                                                                                                                                                  |[cryptonnlets, go, brandon]                                                                                                                                                                                         |\n",
      "|a corrupt and oligarchic state compared to what russia belarus what other country that has threatens to invade ukrainewhose legislature voted previous president out and whose people elected the current president and                                               |[corrupt, oligarchic, state, compared, russia, belarus, country, threatens, invade, ukrainewhose, legislature, voted, previous, president, whose, people, elected, current, president]                              |\n",
      "|suspeito pra dizer o mnimo isso de parte da imprensa apostar em putin invade a ucrnia ao invs de rssia invade a ucrnia a guerra tambm de narrativa claro                                                                                                              |[suspeito, pra, dizer, mnimo, isso, de, parte, da, imprensa, apostar, em, putin, invade, ucrnia, ao, invs, de, rssia, invade, ucrnia, guerra, tambm, de, narrativa, claro]                                          |\n",
      "|if trump was still the president of america russia wouldnt have dared to invade ukraine                                                                                                                                                                               |[trump, still, president, america, russia, wouldnt, dared, invade, ukraine]                                                                                                                                         |\n",
      "|type snscrapemodulestwitteruser username transcatgirlgf id displayname mai description weather                                                                                                                                                                        |[type, snscrapemodulestwitteruser, username, transcatgirlgf, id, displayname, mai, description, weather]                                                                                                            |\n",
      "|nothing will happen dont worry i dont think russia will invade because that would mean more trouble for them so its going to be okay                                                                                                                                  |[nothing, happen, dont, worry, dont, think, russia, invade, mean, trouble, going, okay]                                                                                                                             |\n",
      "+----------------------------------------------------------------------------------------------------------------------------------------------------------------------------------------------------------------------------------------------------------------------+--------------------------------------------------------------------------------------------------------------------------------------------------------------------------------------------------------------------+\n",
      "only showing top 20 rows\n",
      "\n"
     ]
    }
   ],
   "source": [
    "df = df.dropDuplicates()\n",
    "df = df.dropna(subset=['content'])\n",
    "df = df.withColumn(\"content\", F.lower(df[\"content\"]))\n",
    "\n",
    "def clean_text(text):\n",
    "    text = re.sub(r'http\\S+|www\\S+|@\\w+', '', text)\n",
    "    text = re.sub(r'\\d+', '', text)\n",
    "    text = re.sub(r'[^a-zA-Z\\s]', '', text)\n",
    "    text = ' '.join(text.split())\n",
    "    return text\n",
    "\n",
    "clean_text_udf = udf(clean_text, StringType())\n",
    "df = df.withColumn(\"content\", clean_text_udf(df[\"content\"]))\n",
    "\n",
    "tokenizer = Tokenizer(inputCol=\"content\", outputCol=\"tokens_unlemmatized\")\n",
    "df = tokenizer.transform(df)\n",
    "\n",
    "stop_words = list(set(word_tokenize(' '.join(stopwords.words('english')))))\n",
    "stop_words.extend(['russian', 'u'])\n",
    "remover = StopWordsRemover(inputCol=\"tokens_unlemmatized\", outputCol=\"tokens\", stopWords=stop_words)\n",
    "df = remover.transform(df)\n",
    "\n",
    "lemmatizer = WordNetLemmatizer()\n",
    "lemmatize_udf = udf(lambda tokens: [lemmatizer.lemmatize(word) for word in tokens], StringType())\n",
    "df = df.withColumn(\"tokens\", lemmatize_udf(df[\"tokens\"]))\n",
    "\n",
    "df.select(\"content\", \"tokens\").show(truncate=False)"
   ]
  },
  {
   "cell_type": "code",
   "execution_count": null,
   "metadata": {
    "colab": {
     "base_uri": "https://localhost:8080/"
    },
    "id": "dobxJ-ED2wCl",
    "outputId": "cece9b5f-c07d-4af9-fae7-474857b8c7dd"
   },
   "outputs": [
    {
     "name": "stderr",
     "output_type": "stream",
     "text": [
      "[nltk_data] Downloading package vader_lexicon to /root/nltk_data...\n"
     ]
    },
    {
     "name": "stdout",
     "output_type": "stream",
     "text": [
      "+----------------------------------------------------------------------------------------------------------------------------------------------------------------------------------------------------------------------------------------------------------------------+--------------------------------------------------------------------------------------------------------------------------------------------------------------------------------------------------------------------+---------+\n",
      "|content                                                                                                                                                                                                                                                               |tokens                                                                                                                                                                                                              |sentiment|\n",
      "+----------------------------------------------------------------------------------------------------------------------------------------------------------------------------------------------------------------------------------------------------------------------+--------------------------------------------------------------------------------------------------------------------------------------------------------------------------------------------------------------------+---------+\n",
      "|                                                                                                                                                                                                                                                                      |[]                                                                                                                                                                                                                  |0.0      |\n",
      "|thanks for that ok next question is why did they really want to set a trap for russia to invade so they can increase weapons sales and balkanizepun intended the west against russia or something else what a dangerous game                                          |[thanks, ok, next, question, really, want, set, trap, russia, invade, increase, weapon, sale, balkanizepun, intended, west, russia, something, else, dangerous, game]                                               |-0.0112  |\n",
      "|so are you saying ukraine was encroaching on russia or that europe was trying to take overcolonizeinvade russia sorry i think i may have misunderstanding what youre trying to say                                                                                    |[saying, ukraine, encroaching, russia, europe, trying, take, overcolonizeinvade, russia, sorry, think, may, misunderstanding, youre, trying, say]                                                                   |-0.4767  |\n",
      "|seems to have come out very openly admitting to be the least trustworthy presidents of usa of all times either he shouldnt have been reassuring ukraine all this while or shld have worked harder with russia to not invade this war is on him                        |[seems, come, openly, admitting, least, trustworthy, president, usa, time, either, shouldnt, reassuring, ukraine, shld, worked, harder, russia, invade, war]                                                        |-0.8692  |\n",
      "|mother of                                                                                                                                                                                                                                                             |[mother]                                                                                                                                                                                                            |0.0      |\n",
      "|s so invade a country there are in the us too i dare him to invade the us his troops would be out gunned because our citizens are just plain crazy                                                                                                                    |[invade, country, u, dare, invade, u, troop, gunned, citizen, plain, crazy]                                                                                                                                         |-0.34    |\n",
      "|i did business in northern europe in the s amp once spent hours in finland my local colleagues were certain that russia would find an excuse to invade in my lifetime                                                                                                 |[business, northern, europe, amp, spent, hour, finland, local, colleague, certain, russia, find, excuse, invade, lifetime]                                                                                          |0.34     |\n",
      "|the abused neglected author of nobodys child by beverly james noantiblackracism apttmh b                                                                                                                                                                              |[abused, neglected, author, nobody, child, beverly, james, noantiblackracism, apttmh, b]                                                                                                                            |-0.7717  |\n",
      "|thats some kind of nuclear doctrine russia has we invade and bomb anything and anyone we want                                                                                                                                                                         |[thats, kind, nuclear, doctrine, russia, invade, bomb, anything, anyone, want]                                                                                                                                      |-0.4404  |\n",
      "|well isnt this a surprise a cbc reporter has concluded that canada has been ignoring its responsibility for national defence who knew of course in order to arrive at this conclusion he needs to concoct a vision of trump colluding with russia to invade canada smh|[well, isnt, surprise, cbc, reporter, concluded, canada, ignoring, responsibility, national, defence, knew, course, order, arrive, conclusion, need, concoct, vision, trump, colluding, russia, invade, canada, smh]|-0.5445  |\n",
      "|rawdescription i am the former npieceofcake                                                                                                                                                                                                                           |[rawdescription, former, npieceofcake]                                                                                                                                                                              |0.0      |\n",
      "|the worlds gone crazy russia is making the mistake france and germany made when they tried to invade russia if it wasnt so sad it would be the funniest thing ever                                                                                                    |[world, gone, crazy, russia, making, mistake, france, germany, made, tried, invade, russia, wasnt, sad, funniest, thing, ever]                                                                                      |0.4613   |\n",
      "|after all the commentary asserting that putin would not invade ukraine proved false its a little hard to be reassured by claims that him putting russias nuclear forces on alert is just a bluff i pray it is but its not quite so easy to believe                    |[commentary, asserting, putin, invade, ukraine, proved, false, little, hard, reassured, claim, putting, russia, nuclear, force, alert, bluff, pray, quite, easy, believe]                                           |0.8651   |\n",
      "|id                                                                                                                                                                                                                                                                    |[id]                                                                                                                                                                                                                |0.0      |\n",
      "|its not your cryptonnlets go brandon                                                                                                                                                                                                                                  |[cryptonnlets, go, brandon]                                                                                                                                                                                         |0.0      |\n",
      "|a corrupt and oligarchic state compared to what russia belarus what other country that has threatens to invade ukrainewhose legislature voted previous president out and whose people elected the current president and                                               |[corrupt, oligarchic, state, compared, russia, belarus, country, threatens, invade, ukrainewhose, legislature, voted, previous, president, whose, people, elected, current, president]                              |-0.3818  |\n",
      "|suspeito pra dizer o mnimo isso de parte da imprensa apostar em putin invade a ucrnia ao invs de rssia invade a ucrnia a guerra tambm de narrativa claro                                                                                                              |[suspeito, pra, dizer, mnimo, isso, de, parte, da, imprensa, apostar, em, putin, invade, ucrnia, ao, invs, de, rssia, invade, ucrnia, guerra, tambm, de, narrativa, claro]                                          |0.0      |\n",
      "|if trump was still the president of america russia wouldnt have dared to invade ukraine                                                                                                                                                                               |[trump, still, president, america, russia, wouldnt, dared, invade, ukraine]                                                                                                                                         |0.0      |\n",
      "|type snscrapemodulestwitteruser username transcatgirlgf id displayname mai description weather                                                                                                                                                                        |[type, snscrapemodulestwitteruser, username, transcatgirlgf, id, displayname, mai, description, weather]                                                                                                            |0.0      |\n",
      "|nothing will happen dont worry i dont think russia will invade because that would mean more trouble for them so its going to be okay                                                                                                                                  |[nothing, happen, dont, worry, dont, think, russia, invade, mean, trouble, going, okay]                                                                                                                             |0.0806   |\n",
      "+----------------------------------------------------------------------------------------------------------------------------------------------------------------------------------------------------------------------------------------------------------------------+--------------------------------------------------------------------------------------------------------------------------------------------------------------------------------------------------------------------+---------+\n",
      "only showing top 20 rows\n",
      "\n"
     ]
    }
   ],
   "source": [
    "nltk.download('vader_lexicon')\n",
    "\n",
    "analyzer = SentimentIntensityAnalyzer()\n",
    "\n",
    "def analyze_sentiment(text):\n",
    "    compound = analyzer.polarity_scores(text)[\"compound\"]\n",
    "    return float(compound)\n",
    "\n",
    "analyze_sentiment_udf = udf(analyze_sentiment, FloatType())\n",
    "\n",
    "df = df.withColumn(\"sentiment\", analyze_sentiment_udf(df[\"content\"]))\n",
    "\n",
    "df.select(\"content\", \"tokens\", \"sentiment\").show(truncate=False)"
   ]
  },
  {
   "cell_type": "code",
   "execution_count": null,
   "metadata": {
    "colab": {
     "base_uri": "https://localhost:8080/"
    },
    "id": "1qCrZajyt1EB",
    "outputId": "447156bc-7758-45b5-eabd-16cc0daa2f78"
   },
   "outputs": [
    {
     "name": "stdout",
     "output_type": "stream",
     "text": [
      "+----------------------------------------------------------------------------------------------------------------------------------------------------------------------------------------------------------------------------------------------------------------------+--------------------------------------------------------------------------------------------------------------------------------------------------------------------------------------------------------------------+---------+--------+\n",
      "|content                                                                                                                                                                                                                                                               |tokens                                                                                                                                                                                                              |sentiment|Category|\n",
      "+----------------------------------------------------------------------------------------------------------------------------------------------------------------------------------------------------------------------------------------------------------------------+--------------------------------------------------------------------------------------------------------------------------------------------------------------------------------------------------------------------+---------+--------+\n",
      "|                                                                                                                                                                                                                                                                      |[]                                                                                                                                                                                                                  |0.0      |Neutral |\n",
      "|thanks for that ok next question is why did they really want to set a trap for russia to invade so they can increase weapons sales and balkanizepun intended the west against russia or something else what a dangerous game                                          |[thanks, ok, next, question, really, want, set, trap, russia, invade, increase, weapon, sale, balkanizepun, intended, west, russia, something, else, dangerous, game]                                               |-0.0112  |Neutral |\n",
      "|so are you saying ukraine was encroaching on russia or that europe was trying to take overcolonizeinvade russia sorry i think i may have misunderstanding what youre trying to say                                                                                    |[saying, ukraine, encroaching, russia, europe, trying, take, overcolonizeinvade, russia, sorry, think, may, misunderstanding, youre, trying, say]                                                                   |-0.4767  |Neutral |\n",
      "|seems to have come out very openly admitting to be the least trustworthy presidents of usa of all times either he shouldnt have been reassuring ukraine all this while or shld have worked harder with russia to not invade this war is on him                        |[seems, come, openly, admitting, least, trustworthy, president, usa, time, either, shouldnt, reassuring, ukraine, shld, worked, harder, russia, invade, war]                                                        |-0.8692  |Negative|\n",
      "|mother of                                                                                                                                                                                                                                                             |[mother]                                                                                                                                                                                                            |0.0      |Neutral |\n",
      "|s so invade a country there are in the us too i dare him to invade the us his troops would be out gunned because our citizens are just plain crazy                                                                                                                    |[invade, country, u, dare, invade, u, troop, gunned, citizen, plain, crazy]                                                                                                                                         |-0.34    |Neutral |\n",
      "|i did business in northern europe in the s amp once spent hours in finland my local colleagues were certain that russia would find an excuse to invade in my lifetime                                                                                                 |[business, northern, europe, amp, spent, hour, finland, local, colleague, certain, russia, find, excuse, invade, lifetime]                                                                                          |0.34     |Neutral |\n",
      "|the abused neglected author of nobodys child by beverly james noantiblackracism apttmh b                                                                                                                                                                              |[abused, neglected, author, nobody, child, beverly, james, noantiblackracism, apttmh, b]                                                                                                                            |-0.7717  |Negative|\n",
      "|thats some kind of nuclear doctrine russia has we invade and bomb anything and anyone we want                                                                                                                                                                         |[thats, kind, nuclear, doctrine, russia, invade, bomb, anything, anyone, want]                                                                                                                                      |-0.4404  |Neutral |\n",
      "|well isnt this a surprise a cbc reporter has concluded that canada has been ignoring its responsibility for national defence who knew of course in order to arrive at this conclusion he needs to concoct a vision of trump colluding with russia to invade canada smh|[well, isnt, surprise, cbc, reporter, concluded, canada, ignoring, responsibility, national, defence, knew, course, order, arrive, conclusion, need, concoct, vision, trump, colluding, russia, invade, canada, smh]|-0.5445  |Negative|\n",
      "|rawdescription i am the former npieceofcake                                                                                                                                                                                                                           |[rawdescription, former, npieceofcake]                                                                                                                                                                              |0.0      |Neutral |\n",
      "|the worlds gone crazy russia is making the mistake france and germany made when they tried to invade russia if it wasnt so sad it would be the funniest thing ever                                                                                                    |[world, gone, crazy, russia, making, mistake, france, germany, made, tried, invade, russia, wasnt, sad, funniest, thing, ever]                                                                                      |0.4613   |Neutral |\n",
      "|after all the commentary asserting that putin would not invade ukraine proved false its a little hard to be reassured by claims that him putting russias nuclear forces on alert is just a bluff i pray it is but its not quite so easy to believe                    |[commentary, asserting, putin, invade, ukraine, proved, false, little, hard, reassured, claim, putting, russia, nuclear, force, alert, bluff, pray, quite, easy, believe]                                           |0.8651   |Positive|\n",
      "|id                                                                                                                                                                                                                                                                    |[id]                                                                                                                                                                                                                |0.0      |Neutral |\n",
      "|its not your cryptonnlets go brandon                                                                                                                                                                                                                                  |[cryptonnlets, go, brandon]                                                                                                                                                                                         |0.0      |Neutral |\n",
      "|a corrupt and oligarchic state compared to what russia belarus what other country that has threatens to invade ukrainewhose legislature voted previous president out and whose people elected the current president and                                               |[corrupt, oligarchic, state, compared, russia, belarus, country, threatens, invade, ukrainewhose, legislature, voted, previous, president, whose, people, elected, current, president]                              |-0.3818  |Neutral |\n",
      "|suspeito pra dizer o mnimo isso de parte da imprensa apostar em putin invade a ucrnia ao invs de rssia invade a ucrnia a guerra tambm de narrativa claro                                                                                                              |[suspeito, pra, dizer, mnimo, isso, de, parte, da, imprensa, apostar, em, putin, invade, ucrnia, ao, invs, de, rssia, invade, ucrnia, guerra, tambm, de, narrativa, claro]                                          |0.0      |Neutral |\n",
      "|if trump was still the president of america russia wouldnt have dared to invade ukraine                                                                                                                                                                               |[trump, still, president, america, russia, wouldnt, dared, invade, ukraine]                                                                                                                                         |0.0      |Neutral |\n",
      "|type snscrapemodulestwitteruser username transcatgirlgf id displayname mai description weather                                                                                                                                                                        |[type, snscrapemodulestwitteruser, username, transcatgirlgf, id, displayname, mai, description, weather]                                                                                                            |0.0      |Neutral |\n",
      "|nothing will happen dont worry i dont think russia will invade because that would mean more trouble for them so its going to be okay                                                                                                                                  |[nothing, happen, dont, worry, dont, think, russia, invade, mean, trouble, going, okay]                                                                                                                             |0.0806   |Neutral |\n",
      "+----------------------------------------------------------------------------------------------------------------------------------------------------------------------------------------------------------------------------------------------------------------------+--------------------------------------------------------------------------------------------------------------------------------------------------------------------------------------------------------------------+---------+--------+\n",
      "only showing top 20 rows\n",
      "\n"
     ]
    }
   ],
   "source": [
    "from pyspark.sql.functions import when\n",
    "\n",
    "conditions = [\n",
    "    (df['sentiment'] <= -0.5),\n",
    "    (df['sentiment'] > -0.5) & (df['sentiment'] < 0.5),\n",
    "    (df['sentiment'] >= 0.5)\n",
    "]\n",
    "\n",
    "values = ['Negative', 'Neutral', 'Positive']\n",
    "\n",
    "df = df.withColumn('Category', when(conditions[0], values[0])\n",
    "                                .when(conditions[1], values[1])\n",
    "                                .when(conditions[2], values[2])\n",
    "                                .otherwise(None))\n",
    "\n",
    "df.select(\"content\", \"tokens\", \"sentiment\", \"Category\").show(truncate=False)\n"
   ]
  },
  {
   "cell_type": "code",
   "execution_count": null,
   "metadata": {
    "id": "E9wufmZ0xG3X"
   },
   "outputs": [],
   "source": [
    "selected_columns = df.select(\"content\", \"tokens\", \"sentiment\", \"Category\")\n",
    "\n",
    "output_path = \"/content/drive/MyDrive/train_final\"\n",
    "\n",
    "selected_columns.write.csv(output_path, header=True, mode=\"overwrite\")\n"
   ]
  },
  {
   "cell_type": "code",
   "execution_count": null,
   "metadata": {
    "id": "zO0BHYoJ5-PJ"
   },
   "outputs": [],
   "source": []
  }
 ],
 "metadata": {
  "accelerator": "GPU",
  "colab": {
   "gpuType": "V100",
   "provenance": []
  },
  "kernelspec": {
   "display_name": "Python 3 (ipykernel)",
   "language": "python",
   "name": "python3"
  },
  "language_info": {
   "codemirror_mode": {
    "name": "ipython",
    "version": 3
   },
   "file_extension": ".py",
   "mimetype": "text/x-python",
   "name": "python",
   "nbconvert_exporter": "python",
   "pygments_lexer": "ipython3",
   "version": "3.9.12"
  }
 },
 "nbformat": 4,
 "nbformat_minor": 1
}
